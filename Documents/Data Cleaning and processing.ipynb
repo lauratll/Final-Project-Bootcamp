{
 "cells": [
  {
   "cell_type": "markdown",
   "id": "361a66d1",
   "metadata": {
    "toc": true
   },
   "source": [
    "<h1>Table of Contents<span class=\"tocSkip\"></span></h1>\n",
    "<div class=\"toc\"><ul class=\"toc-item\"><li><span><a href=\"#Data-Cleaning-and-pre-processing\" data-toc-modified-id=\"Data-Cleaning-and-pre-processing-1\">Data Cleaning and pre-processing</a></span><ul class=\"toc-item\"><li><ul class=\"toc-item\"><li><span><a href=\"#Change-the-dates\" data-toc-modified-id=\"Change-the-dates-1.0.1\">Change the dates</a></span></li></ul></li></ul></li></ul></div>"
   ]
  },
  {
   "cell_type": "markdown",
   "id": "91c6d03e",
   "metadata": {},
   "source": [
    "# Data Cleaning and pre-processing"
   ]
  },
  {
   "cell_type": "code",
   "execution_count": 1,
   "id": "5846106c",
   "metadata": {},
   "outputs": [],
   "source": [
    "import pandas as pd\n",
    "import numpy as np"
   ]
  },
  {
   "cell_type": "code",
   "execution_count": null,
   "id": "6de0b092",
   "metadata": {},
   "outputs": [],
   "source": [
    "kas = pd.read_csv(\"../data/reviews.csv\")"
   ]
  },
  {
   "cell_type": "code",
   "execution_count": 30,
   "id": "df06d449",
   "metadata": {},
   "outputs": [
    {
     "data": {
      "text/plain": [
       "1305"
      ]
     },
     "execution_count": 30,
     "metadata": {},
     "output_type": "execute_result"
    }
   ],
   "source": [
    "len(kas)"
   ]
  },
  {
   "cell_type": "code",
   "execution_count": 4,
   "id": "a0391035",
   "metadata": {},
   "outputs": [
    {
     "data": {
      "text/html": [
       "<div>\n",
       "<style scoped>\n",
       "    .dataframe tbody tr th:only-of-type {\n",
       "        vertical-align: middle;\n",
       "    }\n",
       "\n",
       "    .dataframe tbody tr th {\n",
       "        vertical-align: top;\n",
       "    }\n",
       "\n",
       "    .dataframe thead th {\n",
       "        text-align: right;\n",
       "    }\n",
       "</style>\n",
       "<table border=\"1\" class=\"dataframe\">\n",
       "  <thead>\n",
       "    <tr style=\"text-align: right;\">\n",
       "      <th></th>\n",
       "      <th>Score</th>\n",
       "      <th>Date</th>\n",
       "      <th>Title</th>\n",
       "      <th>Review</th>\n",
       "    </tr>\n",
       "  </thead>\n",
       "  <tbody>\n",
       "    <tr>\n",
       "      <th>0</th>\n",
       "      <td>10</td>\n",
       "      <td>17 september 2020</td>\n",
       "      <td>Total disregard for hygiene standards</td>\n",
       "      <td>This is a beautiful and very special restauran...</td>\n",
       "    </tr>\n",
       "    <tr>\n",
       "      <th>1</th>\n",
       "      <td>40</td>\n",
       "      <td>15 september 2020</td>\n",
       "      <td>Nice fresh products, great location</td>\n",
       "      <td>The food was nice and fresh, and the surroundi...</td>\n",
       "    </tr>\n",
       "    <tr>\n",
       "      <th>2</th>\n",
       "      <td>50</td>\n",
       "      <td>13 september 2020</td>\n",
       "      <td>Fresh, tasty and beautifully presented food</td>\n",
       "      <td>This restaurant is located in a park in the so...</td>\n",
       "    </tr>\n",
       "    <tr>\n",
       "      <th>3</th>\n",
       "      <td>10</td>\n",
       "      <td>12 augustus 2020</td>\n",
       "      <td>Long curly hair in the food</td>\n",
       "      <td>We were really looking forward to our dinner a...</td>\n",
       "    </tr>\n",
       "    <tr>\n",
       "      <th>4</th>\n",
       "      <td>40</td>\n",
       "      <td>31 juli 2020</td>\n",
       "      <td>Restaurant De Kas - Local Affinity!</td>\n",
       "      <td>Local Affinity!The menu tells the story of the...</td>\n",
       "    </tr>\n",
       "  </tbody>\n",
       "</table>\n",
       "</div>"
      ],
      "text/plain": [
       "   Score               Date                                        Title  \\\n",
       "0     10  17 september 2020        Total disregard for hygiene standards   \n",
       "1     40  15 september 2020          Nice fresh products, great location   \n",
       "2     50  13 september 2020  Fresh, tasty and beautifully presented food   \n",
       "3     10   12 augustus 2020                  Long curly hair in the food   \n",
       "4     40       31 juli 2020          Restaurant De Kas - Local Affinity!   \n",
       "\n",
       "                                              Review  \n",
       "0  This is a beautiful and very special restauran...  \n",
       "1  The food was nice and fresh, and the surroundi...  \n",
       "2  This restaurant is located in a park in the so...  \n",
       "3  We were really looking forward to our dinner a...  \n",
       "4  Local Affinity!The menu tells the story of the...  "
      ]
     },
     "execution_count": 4,
     "metadata": {},
     "output_type": "execute_result"
    }
   ],
   "source": [
    "kas.head()"
   ]
  },
  {
   "cell_type": "code",
   "execution_count": 23,
   "id": "5e551f09",
   "metadata": {},
   "outputs": [
    {
     "data": {
      "text/plain": [
       "<bound method Series.unique of 0       17 september 2020\n",
       "1       15 september 2020\n",
       "2       13 september 2020\n",
       "3        12 augustus 2020\n",
       "4            31 juli 2020\n",
       "              ...        \n",
       "1780        10 maart 2009\n",
       "1781      2 februari 2009\n",
       "1782      14 januari 2009\n",
       "1783      12 januari 2009\n",
       "1784      5 november 2008\n",
       "Name: Date, Length: 1305, dtype: object>"
      ]
     },
     "execution_count": 23,
     "metadata": {},
     "output_type": "execute_result"
    }
   ],
   "source": [
    "kas[\"Date\"].unique"
   ]
  },
  {
   "cell_type": "code",
   "execution_count": 13,
   "id": "30f84983",
   "metadata": {},
   "outputs": [],
   "source": [
    "kas.drop_duplicates(inplace=True)"
   ]
  },
  {
   "cell_type": "code",
   "execution_count": null,
   "id": "b7999370",
   "metadata": {},
   "outputs": [],
   "source": [
    "kas[\"Date\"].apply(lambda x: x.replace({\"januari\":\"January\",\"februari\":\"February\", \"maart\":\"March\",\"april\":\"April\",\n",
    "                     \"mei\":\"May\",\"juni\":\"June\", \"juli\":\"July\",\"augustus\": \"August\",\"september\":\"September\",\n",
    "                     \"oktober\":\"October\",\"november\":\"November\",\"december\":\"December\"})"
   ]
  },
  {
   "cell_type": "markdown",
   "id": "2f3e3e4e",
   "metadata": {},
   "source": [
    "### Change the dates"
   ]
  },
  {
   "cell_type": "code",
   "execution_count": 29,
   "id": "46392615",
   "metadata": {},
   "outputs": [
    {
     "ename": "TypeError",
     "evalue": "replace() takes no keyword arguments",
     "output_type": "error",
     "traceback": [
      "\u001b[0;31m---------------------------------------------------------------------------\u001b[0m",
      "\u001b[0;31mTypeError\u001b[0m                                 Traceback (most recent call last)",
      "\u001b[0;32m<ipython-input-29-0c0f3c280613>\u001b[0m in \u001b[0;36m<module>\u001b[0;34m\u001b[0m\n\u001b[0;32m----> 1\u001b[0;31m kas[\"Date\"].apply(lambda x: x.replace({\"januari\":\"January\",\"februari\":\"February\", \"maart\":\"March\",\"april\":\"April\",\n\u001b[0m\u001b[1;32m      2\u001b[0m                      \u001b[0;34m\"mei\"\u001b[0m\u001b[0;34m:\u001b[0m\u001b[0;34m\"May\"\u001b[0m\u001b[0;34m,\u001b[0m\u001b[0;34m\"juli\"\u001b[0m\u001b[0;34m:\u001b[0m\u001b[0;34m\"July\"\u001b[0m\u001b[0;34m,\u001b[0m\u001b[0;34m\"augustus\"\u001b[0m\u001b[0;34m:\u001b[0m \u001b[0;34m\"August\"\u001b[0m\u001b[0;34m,\u001b[0m\u001b[0;34m\"september\"\u001b[0m\u001b[0;34m:\u001b[0m\u001b[0;34m\"September\"\u001b[0m\u001b[0;34m,\u001b[0m\u001b[0;34m\u001b[0m\u001b[0;34m\u001b[0m\u001b[0m\n\u001b[1;32m      3\u001b[0m                      \"oktober\":\"October\",\"november\":\"November\",\"december\":\"December\"},axis=0))\n",
      "\u001b[0;32m~/opt/anaconda3/lib/python3.8/site-packages/pandas/core/series.py\u001b[0m in \u001b[0;36mapply\u001b[0;34m(self, func, convert_dtype, args, **kwds)\u001b[0m\n\u001b[1;32m   4136\u001b[0m             \u001b[0;32melse\u001b[0m\u001b[0;34m:\u001b[0m\u001b[0;34m\u001b[0m\u001b[0;34m\u001b[0m\u001b[0m\n\u001b[1;32m   4137\u001b[0m                 \u001b[0mvalues\u001b[0m \u001b[0;34m=\u001b[0m \u001b[0mself\u001b[0m\u001b[0;34m.\u001b[0m\u001b[0mastype\u001b[0m\u001b[0;34m(\u001b[0m\u001b[0mobject\u001b[0m\u001b[0;34m)\u001b[0m\u001b[0;34m.\u001b[0m\u001b[0m_values\u001b[0m\u001b[0;34m\u001b[0m\u001b[0;34m\u001b[0m\u001b[0m\n\u001b[0;32m-> 4138\u001b[0;31m                 \u001b[0mmapped\u001b[0m \u001b[0;34m=\u001b[0m \u001b[0mlib\u001b[0m\u001b[0;34m.\u001b[0m\u001b[0mmap_infer\u001b[0m\u001b[0;34m(\u001b[0m\u001b[0mvalues\u001b[0m\u001b[0;34m,\u001b[0m \u001b[0mf\u001b[0m\u001b[0;34m,\u001b[0m \u001b[0mconvert\u001b[0m\u001b[0;34m=\u001b[0m\u001b[0mconvert_dtype\u001b[0m\u001b[0;34m)\u001b[0m\u001b[0;34m\u001b[0m\u001b[0;34m\u001b[0m\u001b[0m\n\u001b[0m\u001b[1;32m   4139\u001b[0m \u001b[0;34m\u001b[0m\u001b[0m\n\u001b[1;32m   4140\u001b[0m         \u001b[0;32mif\u001b[0m \u001b[0mlen\u001b[0m\u001b[0;34m(\u001b[0m\u001b[0mmapped\u001b[0m\u001b[0;34m)\u001b[0m \u001b[0;32mand\u001b[0m \u001b[0misinstance\u001b[0m\u001b[0;34m(\u001b[0m\u001b[0mmapped\u001b[0m\u001b[0;34m[\u001b[0m\u001b[0;36m0\u001b[0m\u001b[0;34m]\u001b[0m\u001b[0;34m,\u001b[0m \u001b[0mSeries\u001b[0m\u001b[0;34m)\u001b[0m\u001b[0;34m:\u001b[0m\u001b[0;34m\u001b[0m\u001b[0;34m\u001b[0m\u001b[0m\n",
      "\u001b[0;32mpandas/_libs/lib.pyx\u001b[0m in \u001b[0;36mpandas._libs.lib.map_infer\u001b[0;34m()\u001b[0m\n",
      "\u001b[0;32m<ipython-input-29-0c0f3c280613>\u001b[0m in \u001b[0;36m<lambda>\u001b[0;34m(x)\u001b[0m\n\u001b[0;32m----> 1\u001b[0;31m kas[\"Date\"].apply(lambda x: x.replace({\"januari\":\"January\",\"februari\":\"February\", \"maart\":\"March\",\"april\":\"April\",\n\u001b[0m\u001b[1;32m      2\u001b[0m                      \u001b[0;34m\"mei\"\u001b[0m\u001b[0;34m:\u001b[0m\u001b[0;34m\"May\"\u001b[0m\u001b[0;34m,\u001b[0m\u001b[0;34m\"juli\"\u001b[0m\u001b[0;34m:\u001b[0m\u001b[0;34m\"July\"\u001b[0m\u001b[0;34m,\u001b[0m\u001b[0;34m\"augustus\"\u001b[0m\u001b[0;34m:\u001b[0m \u001b[0;34m\"August\"\u001b[0m\u001b[0;34m,\u001b[0m\u001b[0;34m\"september\"\u001b[0m\u001b[0;34m:\u001b[0m\u001b[0;34m\"September\"\u001b[0m\u001b[0;34m,\u001b[0m\u001b[0;34m\u001b[0m\u001b[0;34m\u001b[0m\u001b[0m\n\u001b[1;32m      3\u001b[0m                      \"oktober\":\"October\",\"november\":\"November\",\"december\":\"December\"},axis=0))\n",
      "\u001b[0;31mTypeError\u001b[0m: replace() takes no keyword arguments"
     ]
    }
   ],
   "source": [
    "kas[\"Date\"].apply(lambda x: x.replace({\"januari\":\"January\",\"februari\":\"February\", \"maart\":\"March\",\"april\":\"April\",\n",
    "                     \"mei\":\"May\",\"juni\":\"June\", \"juli\":\"July\",\"augustus\": \"August\",\"september\":\"September\",\n",
    "                     \"oktober\":\"October\",\"november\":\"November\",\"december\":\"December\"})"
   ]
  },
  {
   "cell_type": "code",
   "execution_count": 12,
   "id": "550f023d",
   "metadata": {},
   "outputs": [
    {
     "data": {
      "text/html": [
       "<div>\n",
       "<style scoped>\n",
       "    .dataframe tbody tr th:only-of-type {\n",
       "        vertical-align: middle;\n",
       "    }\n",
       "\n",
       "    .dataframe tbody tr th {\n",
       "        vertical-align: top;\n",
       "    }\n",
       "\n",
       "    .dataframe thead th {\n",
       "        text-align: right;\n",
       "    }\n",
       "</style>\n",
       "<table border=\"1\" class=\"dataframe\">\n",
       "  <thead>\n",
       "    <tr style=\"text-align: right;\">\n",
       "      <th></th>\n",
       "      <th>Score</th>\n",
       "      <th>Date</th>\n",
       "      <th>Title</th>\n",
       "      <th>Review</th>\n",
       "    </tr>\n",
       "  </thead>\n",
       "  <tbody>\n",
       "    <tr>\n",
       "      <th>207</th>\n",
       "      <td>50</td>\n",
       "      <td>26 november 2018</td>\n",
       "      <td>Excellent and unique food</td>\n",
       "      <td>All meals were very fresh, prepared using the ...</td>\n",
       "    </tr>\n",
       "    <tr>\n",
       "      <th>637</th>\n",
       "      <td>50</td>\n",
       "      <td>26 november 2018</td>\n",
       "      <td>Excellent and unique food</td>\n",
       "      <td>All meals were very fresh, prepared using the ...</td>\n",
       "    </tr>\n",
       "  </tbody>\n",
       "</table>\n",
       "</div>"
      ],
      "text/plain": [
       "     Score              Date                      Title  \\\n",
       "207     50  26 november 2018  Excellent and unique food   \n",
       "637     50  26 november 2018  Excellent and unique food   \n",
       "\n",
       "                                                Review  \n",
       "207  All meals were very fresh, prepared using the ...  \n",
       "637  All meals were very fresh, prepared using the ...  "
      ]
     },
     "execution_count": 12,
     "metadata": {},
     "output_type": "execute_result"
    }
   ],
   "source": []
  },
  {
   "cell_type": "code",
   "execution_count": null,
   "id": "caa9e54f",
   "metadata": {},
   "outputs": [],
   "source": []
  },
  {
   "cell_type": "code",
   "execution_count": null,
   "id": "7d4b3065",
   "metadata": {},
   "outputs": [],
   "source": []
  },
  {
   "cell_type": "code",
   "execution_count": null,
   "id": "176097ea",
   "metadata": {},
   "outputs": [],
   "source": []
  },
  {
   "cell_type": "code",
   "execution_count": null,
   "id": "40d5e0a3",
   "metadata": {},
   "outputs": [],
   "source": []
  },
  {
   "cell_type": "code",
   "execution_count": null,
   "id": "4fd18712",
   "metadata": {},
   "outputs": [],
   "source": []
  }
 ],
 "metadata": {
  "kernelspec": {
   "display_name": "Python 3",
   "language": "python",
   "name": "python3"
  },
  "language_info": {
   "codemirror_mode": {
    "name": "ipython",
    "version": 3
   },
   "file_extension": ".py",
   "mimetype": "text/x-python",
   "name": "python",
   "nbconvert_exporter": "python",
   "pygments_lexer": "ipython3",
   "version": "3.8.8"
  },
  "toc": {
   "base_numbering": 1,
   "nav_menu": {},
   "number_sections": false,
   "sideBar": true,
   "skip_h1_title": false,
   "title_cell": "Table of Contents",
   "title_sidebar": "Contents",
   "toc_cell": true,
   "toc_position": {},
   "toc_section_display": true,
   "toc_window_display": true
  }
 },
 "nbformat": 4,
 "nbformat_minor": 5
}
