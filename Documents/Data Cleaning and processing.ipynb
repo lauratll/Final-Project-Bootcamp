{
 "cells": [
  {
   "cell_type": "markdown",
   "id": "361a66d1",
   "metadata": {
    "toc": true
   },
   "source": [
    "<h1>Table of Contents<span class=\"tocSkip\"></span></h1>\n",
    "<div class=\"toc\"><ul class=\"toc-item\"><li><span><a href=\"#Data-Cleaning-and-pre-processing\" data-toc-modified-id=\"Data-Cleaning-and-pre-processing-1\">Data Cleaning and pre-processing</a></span><ul class=\"toc-item\"><li><ul class=\"toc-item\"><li><span><a href=\"#Change-the-dates\" data-toc-modified-id=\"Change-the-dates-1.0.1\">Change the dates</a></span></li></ul></li></ul></li></ul></div>"
   ]
  },
  {
   "cell_type": "markdown",
   "id": "91c6d03e",
   "metadata": {},
   "source": [
    "# Data Cleaning and pre-processing"
   ]
  },
  {
   "cell_type": "code",
   "execution_count": 2,
   "id": "5846106c",
   "metadata": {},
   "outputs": [],
   "source": [
    "import pandas as pd\n",
    "import numpy as np"
   ]
  },
  {
   "cell_type": "code",
   "execution_count": 3,
   "id": "6de0b092",
   "metadata": {},
   "outputs": [],
   "source": [
    "kas = pd.read_csv(\"../data/kas_reviews.csv\")"
   ]
  },
  {
   "cell_type": "code",
   "execution_count": 4,
   "id": "df06d449",
   "metadata": {},
   "outputs": [
    {
     "data": {
      "text/plain": [
       "1308"
      ]
     },
     "execution_count": 4,
     "metadata": {},
     "output_type": "execute_result"
    }
   ],
   "source": [
    "len(kas)"
   ]
  },
  {
   "cell_type": "code",
   "execution_count": 5,
   "id": "a0391035",
   "metadata": {},
   "outputs": [
    {
     "data": {
      "text/html": [
       "<div>\n",
       "<style scoped>\n",
       "    .dataframe tbody tr th:only-of-type {\n",
       "        vertical-align: middle;\n",
       "    }\n",
       "\n",
       "    .dataframe tbody tr th {\n",
       "        vertical-align: top;\n",
       "    }\n",
       "\n",
       "    .dataframe thead th {\n",
       "        text-align: right;\n",
       "    }\n",
       "</style>\n",
       "<table border=\"1\" class=\"dataframe\">\n",
       "  <thead>\n",
       "    <tr style=\"text-align: right;\">\n",
       "      <th></th>\n",
       "      <th>Id</th>\n",
       "      <th>Score</th>\n",
       "      <th>Date</th>\n",
       "      <th>Title</th>\n",
       "      <th>Review</th>\n",
       "    </tr>\n",
       "  </thead>\n",
       "  <tbody>\n",
       "    <tr>\n",
       "      <th>0</th>\n",
       "      <td>798058056</td>\n",
       "      <td>10</td>\n",
       "      <td>July 19, 2021</td>\n",
       "      <td>Poor communication</td>\n",
       "      <td>Poor communication towards freelancers. Not re...</td>\n",
       "    </tr>\n",
       "    <tr>\n",
       "      <th>1</th>\n",
       "      <td>796220834</td>\n",
       "      <td>50</td>\n",
       "      <td>July 8, 2021</td>\n",
       "      <td>Fabulous</td>\n",
       "      <td>After an hour drive from Makkum in the Friesla...</td>\n",
       "    </tr>\n",
       "    <tr>\n",
       "      <th>2</th>\n",
       "      <td>792789843</td>\n",
       "      <td>50</td>\n",
       "      <td>June 16, 2021</td>\n",
       "      <td>Nice Restaurant</td>\n",
       "      <td>If you go for 6 dishes they appear to have a w...</td>\n",
       "    </tr>\n",
       "    <tr>\n",
       "      <th>3</th>\n",
       "      <td>788354190</td>\n",
       "      <td>50</td>\n",
       "      <td>May 9, 2021</td>\n",
       "      <td>Absolutely Delicious Food</td>\n",
       "      <td>My new favorite restaurant in Amsterdam!It pri...</td>\n",
       "    </tr>\n",
       "    <tr>\n",
       "      <th>4</th>\n",
       "      <td>778227856</td>\n",
       "      <td>50</td>\n",
       "      <td>November 30, 2020</td>\n",
       "      <td>So fresh! So tasty!</td>\n",
       "      <td>Ingredients were freshly picked from the garde...</td>\n",
       "    </tr>\n",
       "  </tbody>\n",
       "</table>\n",
       "</div>"
      ],
      "text/plain": [
       "          Id  Score               Date                      Title  \\\n",
       "0  798058056     10      July 19, 2021         Poor communication   \n",
       "1  796220834     50       July 8, 2021                   Fabulous   \n",
       "2  792789843     50      June 16, 2021            Nice Restaurant   \n",
       "3  788354190     50        May 9, 2021  Absolutely Delicious Food   \n",
       "4  778227856     50  November 30, 2020        So fresh! So tasty!   \n",
       "\n",
       "                                              Review  \n",
       "0  Poor communication towards freelancers. Not re...  \n",
       "1  After an hour drive from Makkum in the Friesla...  \n",
       "2  If you go for 6 dishes they appear to have a w...  \n",
       "3  My new favorite restaurant in Amsterdam!It pri...  \n",
       "4  Ingredients were freshly picked from the garde...  "
      ]
     },
     "execution_count": 5,
     "metadata": {},
     "output_type": "execute_result"
    }
   ],
   "source": [
    "kas.head()"
   ]
  },
  {
   "cell_type": "code",
   "execution_count": 6,
   "id": "5e551f09",
   "metadata": {},
   "outputs": [
    {
     "data": {
      "text/plain": [
       "<bound method Series.unique of 0       798058056\n",
       "1       796220834\n",
       "2       792789843\n",
       "3       788354190\n",
       "4       778227856\n",
       "          ...    \n",
       "1303     23658332\n",
       "1304     21557669\n",
       "1305     19592320\n",
       "1306     18857462\n",
       "1307     18551995\n",
       "Name: Id, Length: 1308, dtype: int64>"
      ]
     },
     "execution_count": 6,
     "metadata": {},
     "output_type": "execute_result"
    }
   ],
   "source": [
    "kas[\"Id\"].unique"
   ]
  },
  {
   "cell_type": "code",
   "execution_count": 8,
   "id": "30f84983",
   "metadata": {},
   "outputs": [
    {
     "data": {
      "text/html": [
       "<div>\n",
       "<style scoped>\n",
       "    .dataframe tbody tr th:only-of-type {\n",
       "        vertical-align: middle;\n",
       "    }\n",
       "\n",
       "    .dataframe tbody tr th {\n",
       "        vertical-align: top;\n",
       "    }\n",
       "\n",
       "    .dataframe thead th {\n",
       "        text-align: right;\n",
       "    }\n",
       "</style>\n",
       "<table border=\"1\" class=\"dataframe\">\n",
       "  <thead>\n",
       "    <tr style=\"text-align: right;\">\n",
       "      <th></th>\n",
       "      <th>Id</th>\n",
       "      <th>Score</th>\n",
       "      <th>Date</th>\n",
       "      <th>Title</th>\n",
       "      <th>Review</th>\n",
       "    </tr>\n",
       "  </thead>\n",
       "  <tbody>\n",
       "    <tr>\n",
       "      <th>0</th>\n",
       "      <td>798058056</td>\n",
       "      <td>10</td>\n",
       "      <td>July 19, 2021</td>\n",
       "      <td>Poor communication</td>\n",
       "      <td>Poor communication towards freelancers. Not re...</td>\n",
       "    </tr>\n",
       "    <tr>\n",
       "      <th>1</th>\n",
       "      <td>796220834</td>\n",
       "      <td>50</td>\n",
       "      <td>July 8, 2021</td>\n",
       "      <td>Fabulous</td>\n",
       "      <td>After an hour drive from Makkum in the Friesla...</td>\n",
       "    </tr>\n",
       "    <tr>\n",
       "      <th>2</th>\n",
       "      <td>792789843</td>\n",
       "      <td>50</td>\n",
       "      <td>June 16, 2021</td>\n",
       "      <td>Nice Restaurant</td>\n",
       "      <td>If you go for 6 dishes they appear to have a w...</td>\n",
       "    </tr>\n",
       "    <tr>\n",
       "      <th>3</th>\n",
       "      <td>788354190</td>\n",
       "      <td>50</td>\n",
       "      <td>May 9, 2021</td>\n",
       "      <td>Absolutely Delicious Food</td>\n",
       "      <td>My new favorite restaurant in Amsterdam!It pri...</td>\n",
       "    </tr>\n",
       "    <tr>\n",
       "      <th>4</th>\n",
       "      <td>778227856</td>\n",
       "      <td>50</td>\n",
       "      <td>November 30, 2020</td>\n",
       "      <td>So fresh! So tasty!</td>\n",
       "      <td>Ingredients were freshly picked from the garde...</td>\n",
       "    </tr>\n",
       "    <tr>\n",
       "      <th>...</th>\n",
       "      <td>...</td>\n",
       "      <td>...</td>\n",
       "      <td>...</td>\n",
       "      <td>...</td>\n",
       "      <td>...</td>\n",
       "    </tr>\n",
       "    <tr>\n",
       "      <th>1303</th>\n",
       "      <td>23658332</td>\n",
       "      <td>50</td>\n",
       "      <td>January 12, 2009</td>\n",
       "      <td>Original setup with yummy organic and (extreme...</td>\n",
       "      <td>Original setup with yummy organic and (extreme...</td>\n",
       "    </tr>\n",
       "    <tr>\n",
       "      <th>1304</th>\n",
       "      <td>21557669</td>\n",
       "      <td>50</td>\n",
       "      <td>November 4, 2008</td>\n",
       "      <td>Without any doubt the best restaurant in Amste...</td>\n",
       "      <td>Ok, if you are planning on coming to Amsterdam...</td>\n",
       "    </tr>\n",
       "    <tr>\n",
       "      <th>1305</th>\n",
       "      <td>19592320</td>\n",
       "      <td>50</td>\n",
       "      <td>August 31, 2008</td>\n",
       "      <td>a new must in Amsterdam</td>\n",
       "      <td>I had a great dinner at this restaurant in the...</td>\n",
       "    </tr>\n",
       "    <tr>\n",
       "      <th>1306</th>\n",
       "      <td>18857462</td>\n",
       "      <td>40</td>\n",
       "      <td>August 11, 2008</td>\n",
       "      <td>A greenhouse with fresh tasty food</td>\n",
       "      <td>I went to De Kas with two friends that knew al...</td>\n",
       "    </tr>\n",
       "    <tr>\n",
       "      <th>1307</th>\n",
       "      <td>18551995</td>\n",
       "      <td>40</td>\n",
       "      <td>August 2, 2008</td>\n",
       "      <td>A Culinary Experience In An Amsterdam Greenhou...</td>\n",
       "      <td>The only reason I did not give the absolute be...</td>\n",
       "    </tr>\n",
       "  </tbody>\n",
       "</table>\n",
       "<p>1308 rows × 5 columns</p>\n",
       "</div>"
      ],
      "text/plain": [
       "             Id  Score               Date  \\\n",
       "0     798058056     10      July 19, 2021   \n",
       "1     796220834     50       July 8, 2021   \n",
       "2     792789843     50      June 16, 2021   \n",
       "3     788354190     50        May 9, 2021   \n",
       "4     778227856     50  November 30, 2020   \n",
       "...         ...    ...                ...   \n",
       "1303   23658332     50   January 12, 2009   \n",
       "1304   21557669     50   November 4, 2008   \n",
       "1305   19592320     50    August 31, 2008   \n",
       "1306   18857462     40    August 11, 2008   \n",
       "1307   18551995     40     August 2, 2008   \n",
       "\n",
       "                                                  Title  \\\n",
       "0                                    Poor communication   \n",
       "1                                              Fabulous   \n",
       "2                                       Nice Restaurant   \n",
       "3                             Absolutely Delicious Food   \n",
       "4                                   So fresh! So tasty!   \n",
       "...                                                 ...   \n",
       "1303  Original setup with yummy organic and (extreme...   \n",
       "1304  Without any doubt the best restaurant in Amste...   \n",
       "1305                            a new must in Amsterdam   \n",
       "1306                 A greenhouse with fresh tasty food   \n",
       "1307  A Culinary Experience In An Amsterdam Greenhou...   \n",
       "\n",
       "                                                 Review  \n",
       "0     Poor communication towards freelancers. Not re...  \n",
       "1     After an hour drive from Makkum in the Friesla...  \n",
       "2     If you go for 6 dishes they appear to have a w...  \n",
       "3     My new favorite restaurant in Amsterdam!It pri...  \n",
       "4     Ingredients were freshly picked from the garde...  \n",
       "...                                                 ...  \n",
       "1303  Original setup with yummy organic and (extreme...  \n",
       "1304  Ok, if you are planning on coming to Amsterdam...  \n",
       "1305  I had a great dinner at this restaurant in the...  \n",
       "1306  I went to De Kas with two friends that knew al...  \n",
       "1307  The only reason I did not give the absolute be...  \n",
       "\n",
       "[1308 rows x 5 columns]"
      ]
     },
     "execution_count": 8,
     "metadata": {},
     "output_type": "execute_result"
    }
   ],
   "source": [
    "kas.drop_duplicates(subset=[\"Id\"])"
   ]
  },
  {
   "cell_type": "code",
   "execution_count": null,
   "id": "b7999370",
   "metadata": {},
   "outputs": [],
   "source": [
    "kas[\"Date\"].apply(lambda x: x.replace({\"januari\":\"January\",\"februari\":\"February\", \"maart\":\"March\",\"april\":\"April\",\n",
    "                     \"mei\":\"May\",\"juni\":\"June\", \"juli\":\"July\",\"augustus\": \"August\",\"september\":\"September\",\n",
    "                     \"oktober\":\"October\",\"november\":\"November\",\"december\":\"December\"})"
   ]
  },
  {
   "cell_type": "markdown",
   "id": "2f3e3e4e",
   "metadata": {},
   "source": [
    "### Change the dates"
   ]
  },
  {
   "cell_type": "code",
   "execution_count": 29,
   "id": "46392615",
   "metadata": {},
   "outputs": [
    {
     "ename": "TypeError",
     "evalue": "replace() takes no keyword arguments",
     "output_type": "error",
     "traceback": [
      "\u001b[0;31m---------------------------------------------------------------------------\u001b[0m",
      "\u001b[0;31mTypeError\u001b[0m                                 Traceback (most recent call last)",
      "\u001b[0;32m<ipython-input-29-0c0f3c280613>\u001b[0m in \u001b[0;36m<module>\u001b[0;34m\u001b[0m\n\u001b[0;32m----> 1\u001b[0;31m kas[\"Date\"].apply(lambda x: x.replace({\"januari\":\"January\",\"februari\":\"February\", \"maart\":\"March\",\"april\":\"April\",\n\u001b[0m\u001b[1;32m      2\u001b[0m                      \u001b[0;34m\"mei\"\u001b[0m\u001b[0;34m:\u001b[0m\u001b[0;34m\"May\"\u001b[0m\u001b[0;34m,\u001b[0m\u001b[0;34m\"juli\"\u001b[0m\u001b[0;34m:\u001b[0m\u001b[0;34m\"July\"\u001b[0m\u001b[0;34m,\u001b[0m\u001b[0;34m\"augustus\"\u001b[0m\u001b[0;34m:\u001b[0m \u001b[0;34m\"August\"\u001b[0m\u001b[0;34m,\u001b[0m\u001b[0;34m\"september\"\u001b[0m\u001b[0;34m:\u001b[0m\u001b[0;34m\"September\"\u001b[0m\u001b[0;34m,\u001b[0m\u001b[0;34m\u001b[0m\u001b[0;34m\u001b[0m\u001b[0m\n\u001b[1;32m      3\u001b[0m                      \"oktober\":\"October\",\"november\":\"November\",\"december\":\"December\"},axis=0))\n",
      "\u001b[0;32m~/opt/anaconda3/lib/python3.8/site-packages/pandas/core/series.py\u001b[0m in \u001b[0;36mapply\u001b[0;34m(self, func, convert_dtype, args, **kwds)\u001b[0m\n\u001b[1;32m   4136\u001b[0m             \u001b[0;32melse\u001b[0m\u001b[0;34m:\u001b[0m\u001b[0;34m\u001b[0m\u001b[0;34m\u001b[0m\u001b[0m\n\u001b[1;32m   4137\u001b[0m                 \u001b[0mvalues\u001b[0m \u001b[0;34m=\u001b[0m \u001b[0mself\u001b[0m\u001b[0;34m.\u001b[0m\u001b[0mastype\u001b[0m\u001b[0;34m(\u001b[0m\u001b[0mobject\u001b[0m\u001b[0;34m)\u001b[0m\u001b[0;34m.\u001b[0m\u001b[0m_values\u001b[0m\u001b[0;34m\u001b[0m\u001b[0;34m\u001b[0m\u001b[0m\n\u001b[0;32m-> 4138\u001b[0;31m                 \u001b[0mmapped\u001b[0m \u001b[0;34m=\u001b[0m \u001b[0mlib\u001b[0m\u001b[0;34m.\u001b[0m\u001b[0mmap_infer\u001b[0m\u001b[0;34m(\u001b[0m\u001b[0mvalues\u001b[0m\u001b[0;34m,\u001b[0m \u001b[0mf\u001b[0m\u001b[0;34m,\u001b[0m \u001b[0mconvert\u001b[0m\u001b[0;34m=\u001b[0m\u001b[0mconvert_dtype\u001b[0m\u001b[0;34m)\u001b[0m\u001b[0;34m\u001b[0m\u001b[0;34m\u001b[0m\u001b[0m\n\u001b[0m\u001b[1;32m   4139\u001b[0m \u001b[0;34m\u001b[0m\u001b[0m\n\u001b[1;32m   4140\u001b[0m         \u001b[0;32mif\u001b[0m \u001b[0mlen\u001b[0m\u001b[0;34m(\u001b[0m\u001b[0mmapped\u001b[0m\u001b[0;34m)\u001b[0m \u001b[0;32mand\u001b[0m \u001b[0misinstance\u001b[0m\u001b[0;34m(\u001b[0m\u001b[0mmapped\u001b[0m\u001b[0;34m[\u001b[0m\u001b[0;36m0\u001b[0m\u001b[0;34m]\u001b[0m\u001b[0;34m,\u001b[0m \u001b[0mSeries\u001b[0m\u001b[0;34m)\u001b[0m\u001b[0;34m:\u001b[0m\u001b[0;34m\u001b[0m\u001b[0;34m\u001b[0m\u001b[0m\n",
      "\u001b[0;32mpandas/_libs/lib.pyx\u001b[0m in \u001b[0;36mpandas._libs.lib.map_infer\u001b[0;34m()\u001b[0m\n",
      "\u001b[0;32m<ipython-input-29-0c0f3c280613>\u001b[0m in \u001b[0;36m<lambda>\u001b[0;34m(x)\u001b[0m\n\u001b[0;32m----> 1\u001b[0;31m kas[\"Date\"].apply(lambda x: x.replace({\"januari\":\"January\",\"februari\":\"February\", \"maart\":\"March\",\"april\":\"April\",\n\u001b[0m\u001b[1;32m      2\u001b[0m                      \u001b[0;34m\"mei\"\u001b[0m\u001b[0;34m:\u001b[0m\u001b[0;34m\"May\"\u001b[0m\u001b[0;34m,\u001b[0m\u001b[0;34m\"juli\"\u001b[0m\u001b[0;34m:\u001b[0m\u001b[0;34m\"July\"\u001b[0m\u001b[0;34m,\u001b[0m\u001b[0;34m\"augustus\"\u001b[0m\u001b[0;34m:\u001b[0m \u001b[0;34m\"August\"\u001b[0m\u001b[0;34m,\u001b[0m\u001b[0;34m\"september\"\u001b[0m\u001b[0;34m:\u001b[0m\u001b[0;34m\"September\"\u001b[0m\u001b[0;34m,\u001b[0m\u001b[0;34m\u001b[0m\u001b[0;34m\u001b[0m\u001b[0m\n\u001b[1;32m      3\u001b[0m                      \"oktober\":\"October\",\"november\":\"November\",\"december\":\"December\"},axis=0))\n",
      "\u001b[0;31mTypeError\u001b[0m: replace() takes no keyword arguments"
     ]
    }
   ],
   "source": [
    "kas[\"Date\"].apply(lambda x: x.replace({\"januari\":\"January\",\"februari\":\"February\", \"maart\":\"March\",\"april\":\"April\",\n",
    "                     \"mei\":\"May\",\"juni\":\"June\", \"juli\":\"July\",\"augustus\": \"August\",\"september\":\"September\",\n",
    "                     \"oktober\":\"October\",\"november\":\"November\",\"december\":\"December\"})"
   ]
  },
  {
   "cell_type": "code",
   "execution_count": 12,
   "id": "550f023d",
   "metadata": {},
   "outputs": [
    {
     "data": {
      "text/html": [
       "<div>\n",
       "<style scoped>\n",
       "    .dataframe tbody tr th:only-of-type {\n",
       "        vertical-align: middle;\n",
       "    }\n",
       "\n",
       "    .dataframe tbody tr th {\n",
       "        vertical-align: top;\n",
       "    }\n",
       "\n",
       "    .dataframe thead th {\n",
       "        text-align: right;\n",
       "    }\n",
       "</style>\n",
       "<table border=\"1\" class=\"dataframe\">\n",
       "  <thead>\n",
       "    <tr style=\"text-align: right;\">\n",
       "      <th></th>\n",
       "      <th>Score</th>\n",
       "      <th>Date</th>\n",
       "      <th>Title</th>\n",
       "      <th>Review</th>\n",
       "    </tr>\n",
       "  </thead>\n",
       "  <tbody>\n",
       "    <tr>\n",
       "      <th>207</th>\n",
       "      <td>50</td>\n",
       "      <td>26 november 2018</td>\n",
       "      <td>Excellent and unique food</td>\n",
       "      <td>All meals were very fresh, prepared using the ...</td>\n",
       "    </tr>\n",
       "    <tr>\n",
       "      <th>637</th>\n",
       "      <td>50</td>\n",
       "      <td>26 november 2018</td>\n",
       "      <td>Excellent and unique food</td>\n",
       "      <td>All meals were very fresh, prepared using the ...</td>\n",
       "    </tr>\n",
       "  </tbody>\n",
       "</table>\n",
       "</div>"
      ],
      "text/plain": [
       "     Score              Date                      Title  \\\n",
       "207     50  26 november 2018  Excellent and unique food   \n",
       "637     50  26 november 2018  Excellent and unique food   \n",
       "\n",
       "                                                Review  \n",
       "207  All meals were very fresh, prepared using the ...  \n",
       "637  All meals were very fresh, prepared using the ...  "
      ]
     },
     "execution_count": 12,
     "metadata": {},
     "output_type": "execute_result"
    }
   ],
   "source": []
  },
  {
   "cell_type": "code",
   "execution_count": null,
   "id": "caa9e54f",
   "metadata": {},
   "outputs": [],
   "source": []
  },
  {
   "cell_type": "code",
   "execution_count": null,
   "id": "7d4b3065",
   "metadata": {},
   "outputs": [],
   "source": []
  },
  {
   "cell_type": "code",
   "execution_count": null,
   "id": "176097ea",
   "metadata": {},
   "outputs": [],
   "source": []
  },
  {
   "cell_type": "code",
   "execution_count": null,
   "id": "40d5e0a3",
   "metadata": {},
   "outputs": [],
   "source": []
  },
  {
   "cell_type": "code",
   "execution_count": null,
   "id": "4fd18712",
   "metadata": {},
   "outputs": [],
   "source": []
  }
 ],
 "metadata": {
  "kernelspec": {
   "display_name": "Python 3",
   "language": "python",
   "name": "python3"
  },
  "language_info": {
   "codemirror_mode": {
    "name": "ipython",
    "version": 3
   },
   "file_extension": ".py",
   "mimetype": "text/x-python",
   "name": "python",
   "nbconvert_exporter": "python",
   "pygments_lexer": "ipython3",
   "version": "3.8.8"
  },
  "toc": {
   "base_numbering": 1,
   "nav_menu": {},
   "number_sections": false,
   "sideBar": true,
   "skip_h1_title": false,
   "title_cell": "Table of Contents",
   "title_sidebar": "Contents",
   "toc_cell": true,
   "toc_position": {},
   "toc_section_display": true,
   "toc_window_display": true
  }
 },
 "nbformat": 4,
 "nbformat_minor": 5
}
