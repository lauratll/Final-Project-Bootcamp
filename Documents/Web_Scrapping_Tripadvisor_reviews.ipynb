{
 "cells": [
  {
   "cell_type": "markdown",
   "id": "48545ec0",
   "metadata": {
    "toc": true
   },
   "source": [
    "<h1>Table of Contents<span class=\"tocSkip\"></span></h1>\n",
    "<div class=\"toc\"><ul class=\"toc-item\"><li><span><a href=\"#Web-Scraping\" data-toc-modified-id=\"Web-Scraping-1\">Web Scraping</a></span><ul class=\"toc-item\"><li><span><a href=\"#1.-Import-libraries\" data-toc-modified-id=\"1.-Import-libraries-1.1\">1. Import libraries</a></span></li><li><span><a href=\"#2.-Create-a-csv-file-for-the-data-we-want-to-scrap-and-a-data-frame\" data-toc-modified-id=\"2.-Create-a-csv-file-for-the-data-we-want-to-scrap-and-a-data-frame-1.2\">2. Create a csv file for the data we want to scrap and a data frame</a></span></li><li><span><a href=\"#3.-Web-scraping-with-Selenium\" data-toc-modified-id=\"3.-Web-scraping-with-Selenium-1.3\">3. Web scraping with Selenium</a></span></li></ul></li></ul></div>"
   ]
  },
  {
   "cell_type": "markdown",
   "id": "208dbe89",
   "metadata": {},
   "source": [
    "# Web Scraping"
   ]
  },
  {
   "cell_type": "markdown",
   "id": "778621c8",
   "metadata": {},
   "source": [
    "We are going to do web scrapping on the Tripadvisor website to get the reviews from a restaurant. \n",
    "\n",
    "First, we will start with one restaurant(De kas) and if we have more time, will gather more information from more.\n",
    "\n",
    "The purpose is to get a csv file with the reviews and other atrributes to be able to do a NLP (Natural Language processing) analysis with the reviews. \n",
    "\n",
    "\n",
    "Having a firts look at the site, we would like to extract:\n",
    "\n",
    "    - Review Score\n",
    "    - Title of the review\n",
    "    - Review text\n",
    "    - Date\n",
    "    "
   ]
  },
  {
   "cell_type": "raw",
   "id": "b30d8545",
   "metadata": {},
   "source": [
    "An exemple of the html code, on one review: \n",
    "\n",
    "\n",
    "\n",
    "<div class=\"ui_column is-9\">\n",
    "    <span class=\"ui_bubble_rating bubble_50\"></span>\n",
    "    <span class=\"ratingDate\" title=\"19 februari 2020\">Beoordeeld op 19 februari 2020 </span>\n",
    "    <span class=\"viaMobile\" onclick=\"widgetEvCall('handlers.viaMobileClick', event, this)\"><span class=\"ui_icon mobile-phone\"></span>via mobiele applicatie </span><div class=\"quote\"><a href=\"/ShowUserReviews-g188590-d696917-r746148651-De_Kas-Amsterdam_North_Holland_Province.html\" class=\"title \" onclick=\"(ta.prwidgets.getjs(this,'handlers')).reviewClick(this.href, '0');\" id=\"rn746148651\"><span class=\"noQuotes\">Excellent and cozy</span></a></div><div class=\"prw_rup prw_reviews_google_translate_button_hsx\" data-prwidget-name=\"reviews_google_translate_button_hsx\" data-prwidget-init=\"handlers\"><span class=\"ui_button secondary small\" onclick=\"(ta.prwidgets.getjs(this,'handlers')).open(this);ta.trackEventOnPage('Reviews', 'google_translate');return false;\" data-url=\"/MachineTranslation?g=188590&amp;d=696917&amp;r=746148651&amp;page=review&amp;sl=en&amp;tl=nl\">Google-vertaling </span></div><div class=\"prw_rup prw_reviews_text_summary_hsx\" data-prwidget-name=\"reviews_text_summary_hsx\" data-prwidget-init=\"handlers\"><div class=\"entry\"><p class=\"partial_entry\">Excellent food with an interesting twist in pleasant surroundings. The service was perfekt with very friendly persons, a very nice evening.</p><span class=\"taLnk ulBlueLinks\" onclick=\"widgetEvCall('handlers.clickCollapse',event,this);\">Minder weergeven</span></div></div><div class=\"prw_rup prw_reviews_stay_date_hsx\" data-prwidget-name=\"reviews_stay_date_hsx\" data-prwidget-init=\"\"><span class=\"stay_date_label\">Datum van bezoek:</span> februari 2020</div><div class=\"prw_rup prw_reviews_category_ratings_hsx\" data-prwidget-name=\"reviews_category_ratings_hsx\" data-prwidget-init=\"\"><div class=\"rating-list\"></div></div><div class=\"prw_rup prw_reviews_user_links_hsx\" data-prwidget-name=\"reviews_user_links_hsx\" data-prwidget-init=\"handlers\"><div class=\"userLink \"><a href=\"/members-citypage/moenavej/g188590\" data-pid=\"19169\" target=\"_blank\" onclick=\"(ta.prwidgets.getjs(this,'handlers')).onclick(event, this)\">Bekijk alle 4 beoordelingen over Amsterdam geschreven door Mads M</a></div><span class=\"taLnk \" data-pid=\"38673\" data-locid=\"696917\" data-screenname=\"Mads M\" data-memberid=\"0CBA1E195B9B083738A3F86D92A8CB29\" data-language=\"en\" data-reviewid=\"746148651\" data-subject=\"De Kas\" onclick=\"(ta.prwidgets.getjs(this,'handlers')).onclick(event, this)\">Stel Mads M een vraag over De Kas</span></div><div class=\"prw_rup prw_reviews_vote_line_hsx\" data-prwidget-name=\"reviews_vote_line_hsx\" data-prwidget-init=\"handlers\" data-prwidget-deferred=\"deferred/clicks\"><div class=\"tooltips wrap\"><span id=\"ReportIAP_746148651\" class=\"taLnk no_cpu ui_icon flag\" onclick=\"ta.prwidgets.call('deferred/clicks.clickReport',event,this,746148651,'member');return false;\" onmouseover=\"widgetEvCall('handlers.hoverReport',event,this);return false;\" data-tooltip=\"\" data-position=\"above\" data-content=\"Is er een probleem met deze beoordeling?\"></span></div><div class=\"helpful redesigned hsx_helpful\"><span class=\"thankButton hsx_thank_button\" onclick=\"ta.prwidgets.call('deferred/clicks.clickThank',event,this,'LeJIVqd4EVIpECri1GII2t6mbqgqguuuxizSxiCcqgeVtIJpEJCIQQoqnQQeVsSVuqHyUvvoAKqHM3A3AUkqHxfqHiEmKqHxMVQQoqnQQxbJtqHbatIVEMJaQQoqnQQZiEIGQQoqnQQ5iccJCMQQoqnQQwEisSCnVxiGIac6XoXmqoTpckd3Udv3oU0tEn1kd3Udv3oU0zH1UvvoAK0pSM1Kf7bUzsUAo7A7Kvmkmvbmqnv3xMAXbvf7XA0npEEeJIV1U0EJIVqiJcpV1U0Ii9VC1rZlU3XozxbZxXIq8zzHJTmbqnqiamqnu97rkMbAOmqixGklUzsq8iqQKMeOZxEg9nngRHdgGucVxbyqQacq8CsaxGezzuqnvhJ7LqnsqIp7yMK3cw73qIhxEHHzsVyxdx5xEVCgqix5TpUwKxMEdxbA7dxMKx5rxEgO3gTHvRIoOVUiteuwgGgNiwGxXpL3x2xdOzzd3xEXVCxdvxb79cvqIkMZlie');return false;\"><span class=\"helpful_text\"><span class=\"ui_icon thumbs-up emphasizeWithColor\"></span><span class=\"numHelp emphasizeWithColor\">1 &nbsp;</span><span class=\"thankUser\">Bedank Mads M </span></span><div class=\"buttonShade hidden\"><img src=\"https://static.tacdn.com/img2/generic/site/loading_anim_gry_sml.gif\" alt=\"\"></div></span></div></div><div class=\"prw_rup prw_common_html\" data-prwidget-name=\"common_html\" data-prwidget-init=\"\"><div class=\"note\">Deze beoordeling is de persoonlijke mening van een TripAdvisor-lid en niet die van TripAdvisor LLC zelf.</div></div><div class=\"loadingShade hidden\"><div class=\"ui_spinner\"></div></div></div>"
   ]
  },
  {
   "cell_type": "raw",
   "id": "a95f6925",
   "metadata": {},
   "source": [
    "\n",
    "<div class=\"ui_column is-9\">  <!-- CONTAINER -->\n",
    "  <span class=\"ui_bubble_rating bubble_30\"></span>  <!-- SCORE -->\n",
    "  <span class=\"ratingDate\" title=\"August 2, 2020\">Reviewed 1 week ago </span>  <!-- DATE -->\n",
    "  <div class=\"quote\">\n",
    "    <a href=\"/Show.....html\" class=\"title \" onclick=\"..JavaScript..\" id=\"rn762691785\"> <!-- ID -->\n",
    "      <span class=\"noQuotes\">Lunch</span>  <!-- TITLE -->\n",
    "    </a>\n",
    "  </div>\n",
    "  <div class=\"prw_rup\">\n",
    "    <div class=\"entry\">\n",
    "      <p class=\"partial_entry\">\n",
    "        ..review here..  <!-- REVIEW -->\n",
    "        <span class=\"taLnk ulBlueLinks\" onclick=\"..JavaScript..\">More</span>  <!-- MORE Button -->\n",
    "      </p>\n",
    "    </div>\n",
    "  </div>\n",
    "  ...\n",
    "</div>"
   ]
  },
  {
   "cell_type": "markdown",
   "id": "b58d2bd2",
   "metadata": {},
   "source": [
    "I tried first with  BeautifulSoup and realized that is not enough, as when you are on the reviews you should press the more link to see the whole review, and not just the first lines. \n",
    "We need to launch a browser and control using Selenium, to simulate pressing the More link and executing the JavaScript code.\n",
    "\n",
    "Another problem is that the score is graphical, with 5 green circles. We will need to expect further. "
   ]
  },
  {
   "cell_type": "code",
   "execution_count": 14,
   "id": "10566e1d",
   "metadata": {},
   "outputs": [
    {
     "name": "stdout",
     "output_type": "stream",
     "text": [
      "Collecting selenium\n",
      "  Downloading selenium-3.141.0-py2.py3-none-any.whl (904 kB)\n",
      "\u001b[K     |████████████████████████████████| 904 kB 3.5 MB/s eta 0:00:01\n",
      "\u001b[?25hRequirement already satisfied: urllib3 in /Users/lauratll/opt/anaconda3/lib/python3.8/site-packages (from selenium) (1.26.4)\n",
      "Installing collected packages: selenium\n",
      "Successfully installed selenium-3.141.0\n"
     ]
    }
   ],
   "source": [
    "#!pip install selenium"
   ]
  },
  {
   "cell_type": "markdown",
   "id": "002bb19e",
   "metadata": {},
   "source": [
    "## 1. Import libraries"
   ]
  },
  {
   "cell_type": "code",
   "execution_count": 24,
   "id": "3b65ca62",
   "metadata": {},
   "outputs": [],
   "source": [
    "import csv\n",
    "import time\n",
    "from selenium import webdriver\n",
    "import pandas as pd"
   ]
  },
  {
   "cell_type": "markdown",
   "id": "3e866f5c",
   "metadata": {},
   "source": [
    "## 2. Create a csv file for the data we want to scrap and a data frame"
   ]
  },
  {
   "cell_type": "markdown",
   "id": "91f71b17",
   "metadata": {},
   "source": [
    "We could build a pandas data frame using each element as a key in a dictionary and a list as the values that we have obtain by scrapping. \n",
    "\n",
    "Anohter way is to use the library csv to create a csv file directly."
   ]
  },
  {
   "cell_type": "code",
   "execution_count": 25,
   "id": "9e796abd",
   "metadata": {},
   "outputs": [],
   "source": [
    "# Prepare an empty CSV file\n",
    "csvFile = open(\"reviews.csv\", \"w\", newline='', encoding=\"utf-8\")\n",
    "csvWriter = csv.writer(csvFile)\n",
    "csvWriter.writerow(['Score','Date','Title','Review'])"
   ]
  },
  {
   "cell_type": "markdown",
   "id": "21d2ed61",
   "metadata": {},
   "source": [
    "## 3. Web scraping with Selenium "
   ]
  },
  {
   "cell_type": "code",
   "execution_count": 64,
   "id": "cddc10f5",
   "metadata": {},
   "outputs": [],
   "source": [
    "#1.First page\n",
    "url = \"https://www.tripadvisor.nl/Restaurant_Review-g188590-d696917-Reviews-De_Kas-Amsterdam_North_Holland_Province.html\"\n",
    "\n"
   ]
  },
  {
   "cell_type": "markdown",
   "id": "3d2ac387",
   "metadata": {},
   "source": [
    "We need to create a list for all the urls to get the reviews. \n",
    "The are 10 reviews displaied on each time. The first url in on the varialbe url. The rest we will create and store them on a list to iterate over it later on while scrapping. \n",
    "\n",
    "What it changes between url's, after the ifrst one is this part: -or10-, -or20-, etc.\n",
    "\n",
    "There are around 1308 in english. The number on the url that changes displays the total number of reviews already seen in the previous URL's."
   ]
  },
  {
   "cell_type": "code",
   "execution_count": 1,
   "id": "31c51bc8",
   "metadata": {},
   "outputs": [],
   "source": [
    "#range from 10 to 10, till the 1308 displayed.\n",
    "numbers = list(range(10,1310, 10))"
   ]
  },
  {
   "cell_type": "code",
   "execution_count": 65,
   "id": "aad50d16",
   "metadata": {},
   "outputs": [],
   "source": [
    "list_urls = [url]\n",
    "for number in numbers:\n",
    "    url_page= \"https://www.tripadvisor.nl/Restaurant_Review-g188590-d696917--Reviews-or\" + str(number) + \"-De_Kas-Amsterdam_North_Holland_Province.html\"\n",
    "    list_urls.append(url_page)"
   ]
  },
  {
   "cell_type": "code",
   "execution_count": 67,
   "id": "f80ac9ad",
   "metadata": {},
   "outputs": [
    {
     "data": {
      "text/plain": [
       "131"
      ]
     },
     "execution_count": 67,
     "metadata": {},
     "output_type": "execute_result"
    }
   ],
   "source": [
    "len(list_urls)"
   ]
  },
  {
   "cell_type": "code",
   "execution_count": null,
   "id": "5b09082f",
   "metadata": {},
   "outputs": [],
   "source": []
  },
  {
   "cell_type": "code",
   "execution_count": null,
   "id": "69e8abae",
   "metadata": {},
   "outputs": [],
   "source": [
    "#2. we need to install webdriver.\n",
    "#The Selenium API uses the WebDriver protocol to control a web browser"
   ]
  },
  {
   "cell_type": "code",
   "execution_count": 21,
   "id": "ada399bb",
   "metadata": {},
   "outputs": [],
   "source": [
    "driver = webdriver.Chrome('/Users/lauratll/Documents/Data_Analysis/IronHack/Week_8/chromedriver')  "
   ]
  },
  {
   "cell_type": "code",
   "execution_count": null,
   "id": "31d568a0",
   "metadata": {},
   "outputs": [],
   "source": []
  },
  {
   "cell_type": "code",
   "execution_count": 39,
   "id": "7d8dcdcc",
   "metadata": {},
   "outputs": [],
   "source": [
    "#it open a browser with it\n",
    "driver.get(url)"
   ]
  },
  {
   "cell_type": "markdown",
   "id": "081ba819",
   "metadata": {},
   "source": [
    "<div class=\"prw_rup prw_reviews_text_summary_hsx\" data-prwidget-name=\"reviews_text_summary_hsx\" data-prwidget-init=\"handlers\"><div class=\"entry\"><p class=\"partial_entry\">I read the incredible positive reviews and I had very high expectations.... unfortunately not met at all.\n",
    "Hygiene and COVID...<span class=\"taLnk ulBlueLinks\" onclick=\"widgetEvCall('handlers.clickExpand',event,this);\">Meer</span></p></div></div>"
   ]
  },
  {
   "cell_type": "code",
   "execution_count": 72,
   "id": "2030d9f1",
   "metadata": {},
   "outputs": [],
   "source": [
    "from time import sleep\n",
    "from random import randint"
   ]
  },
  {
   "cell_type": "code",
   "execution_count": 76,
   "id": "dbd925a3",
   "metadata": {},
   "outputs": [
    {
     "name": "stdout",
     "output_type": "stream",
     "text": [
      "https://www.tripadvisor.nl/Restaurant_Review-g188590-d696917-Reviews-De_Kas-Amsterdam_North_Holland_Province.html\n",
      "https://www.tripadvisor.nl/Restaurant_Review-g188590-d696917--Reviews-or10-De_Kas-Amsterdam_North_Holland_Province.html\n",
      "https://www.tripadvisor.nl/Restaurant_Review-g188590-d696917--Reviews-or20-De_Kas-Amsterdam_North_Holland_Province.html\n",
      "https://www.tripadvisor.nl/Restaurant_Review-g188590-d696917--Reviews-or30-De_Kas-Amsterdam_North_Holland_Province.html\n",
      "https://www.tripadvisor.nl/Restaurant_Review-g188590-d696917--Reviews-or40-De_Kas-Amsterdam_North_Holland_Province.html\n",
      "https://www.tripadvisor.nl/Restaurant_Review-g188590-d696917--Reviews-or50-De_Kas-Amsterdam_North_Holland_Province.html\n",
      "https://www.tripadvisor.nl/Restaurant_Review-g188590-d696917--Reviews-or60-De_Kas-Amsterdam_North_Holland_Province.html\n",
      "https://www.tripadvisor.nl/Restaurant_Review-g188590-d696917--Reviews-or70-De_Kas-Amsterdam_North_Holland_Province.html\n",
      "https://www.tripadvisor.nl/Restaurant_Review-g188590-d696917--Reviews-or80-De_Kas-Amsterdam_North_Holland_Province.html\n",
      "https://www.tripadvisor.nl/Restaurant_Review-g188590-d696917--Reviews-or90-De_Kas-Amsterdam_North_Holland_Province.html\n",
      "https://www.tripadvisor.nl/Restaurant_Review-g188590-d696917--Reviews-or100-De_Kas-Amsterdam_North_Holland_Province.html\n",
      "https://www.tripadvisor.nl/Restaurant_Review-g188590-d696917--Reviews-or110-De_Kas-Amsterdam_North_Holland_Province.html\n",
      "https://www.tripadvisor.nl/Restaurant_Review-g188590-d696917--Reviews-or120-De_Kas-Amsterdam_North_Holland_Province.html\n",
      "https://www.tripadvisor.nl/Restaurant_Review-g188590-d696917--Reviews-or130-De_Kas-Amsterdam_North_Holland_Province.html\n",
      "https://www.tripadvisor.nl/Restaurant_Review-g188590-d696917--Reviews-or140-De_Kas-Amsterdam_North_Holland_Province.html\n",
      "https://www.tripadvisor.nl/Restaurant_Review-g188590-d696917--Reviews-or150-De_Kas-Amsterdam_North_Holland_Province.html\n",
      "https://www.tripadvisor.nl/Restaurant_Review-g188590-d696917--Reviews-or160-De_Kas-Amsterdam_North_Holland_Province.html\n",
      "https://www.tripadvisor.nl/Restaurant_Review-g188590-d696917--Reviews-or170-De_Kas-Amsterdam_North_Holland_Province.html\n",
      "https://www.tripadvisor.nl/Restaurant_Review-g188590-d696917--Reviews-or180-De_Kas-Amsterdam_North_Holland_Province.html\n",
      "https://www.tripadvisor.nl/Restaurant_Review-g188590-d696917--Reviews-or190-De_Kas-Amsterdam_North_Holland_Province.html\n",
      "https://www.tripadvisor.nl/Restaurant_Review-g188590-d696917--Reviews-or200-De_Kas-Amsterdam_North_Holland_Province.html\n",
      "https://www.tripadvisor.nl/Restaurant_Review-g188590-d696917--Reviews-or210-De_Kas-Amsterdam_North_Holland_Province.html\n",
      "https://www.tripadvisor.nl/Restaurant_Review-g188590-d696917--Reviews-or220-De_Kas-Amsterdam_North_Holland_Province.html\n",
      "https://www.tripadvisor.nl/Restaurant_Review-g188590-d696917--Reviews-or230-De_Kas-Amsterdam_North_Holland_Province.html\n",
      "https://www.tripadvisor.nl/Restaurant_Review-g188590-d696917--Reviews-or240-De_Kas-Amsterdam_North_Holland_Province.html\n",
      "https://www.tripadvisor.nl/Restaurant_Review-g188590-d696917--Reviews-or250-De_Kas-Amsterdam_North_Holland_Province.html\n",
      "https://www.tripadvisor.nl/Restaurant_Review-g188590-d696917--Reviews-or260-De_Kas-Amsterdam_North_Holland_Province.html\n",
      "https://www.tripadvisor.nl/Restaurant_Review-g188590-d696917--Reviews-or270-De_Kas-Amsterdam_North_Holland_Province.html\n",
      "https://www.tripadvisor.nl/Restaurant_Review-g188590-d696917--Reviews-or280-De_Kas-Amsterdam_North_Holland_Province.html\n",
      "https://www.tripadvisor.nl/Restaurant_Review-g188590-d696917--Reviews-or290-De_Kas-Amsterdam_North_Holland_Province.html\n",
      "https://www.tripadvisor.nl/Restaurant_Review-g188590-d696917--Reviews-or300-De_Kas-Amsterdam_North_Holland_Province.html\n",
      "https://www.tripadvisor.nl/Restaurant_Review-g188590-d696917--Reviews-or310-De_Kas-Amsterdam_North_Holland_Province.html\n",
      "https://www.tripadvisor.nl/Restaurant_Review-g188590-d696917--Reviews-or320-De_Kas-Amsterdam_North_Holland_Province.html\n",
      "https://www.tripadvisor.nl/Restaurant_Review-g188590-d696917--Reviews-or330-De_Kas-Amsterdam_North_Holland_Province.html\n",
      "https://www.tripadvisor.nl/Restaurant_Review-g188590-d696917--Reviews-or340-De_Kas-Amsterdam_North_Holland_Province.html\n",
      "https://www.tripadvisor.nl/Restaurant_Review-g188590-d696917--Reviews-or350-De_Kas-Amsterdam_North_Holland_Province.html\n",
      "https://www.tripadvisor.nl/Restaurant_Review-g188590-d696917--Reviews-or360-De_Kas-Amsterdam_North_Holland_Province.html\n",
      "https://www.tripadvisor.nl/Restaurant_Review-g188590-d696917--Reviews-or370-De_Kas-Amsterdam_North_Holland_Province.html\n",
      "https://www.tripadvisor.nl/Restaurant_Review-g188590-d696917--Reviews-or380-De_Kas-Amsterdam_North_Holland_Province.html\n",
      "https://www.tripadvisor.nl/Restaurant_Review-g188590-d696917--Reviews-or390-De_Kas-Amsterdam_North_Holland_Province.html\n",
      "https://www.tripadvisor.nl/Restaurant_Review-g188590-d696917--Reviews-or400-De_Kas-Amsterdam_North_Holland_Province.html\n",
      "https://www.tripadvisor.nl/Restaurant_Review-g188590-d696917--Reviews-or410-De_Kas-Amsterdam_North_Holland_Province.html\n",
      "https://www.tripadvisor.nl/Restaurant_Review-g188590-d696917--Reviews-or420-De_Kas-Amsterdam_North_Holland_Province.html\n",
      "https://www.tripadvisor.nl/Restaurant_Review-g188590-d696917--Reviews-or430-De_Kas-Amsterdam_North_Holland_Province.html\n",
      "https://www.tripadvisor.nl/Restaurant_Review-g188590-d696917--Reviews-or440-De_Kas-Amsterdam_North_Holland_Province.html\n",
      "https://www.tripadvisor.nl/Restaurant_Review-g188590-d696917--Reviews-or450-De_Kas-Amsterdam_North_Holland_Province.html\n",
      "https://www.tripadvisor.nl/Restaurant_Review-g188590-d696917--Reviews-or460-De_Kas-Amsterdam_North_Holland_Province.html\n",
      "https://www.tripadvisor.nl/Restaurant_Review-g188590-d696917--Reviews-or470-De_Kas-Amsterdam_North_Holland_Province.html\n",
      "https://www.tripadvisor.nl/Restaurant_Review-g188590-d696917--Reviews-or480-De_Kas-Amsterdam_North_Holland_Province.html\n",
      "https://www.tripadvisor.nl/Restaurant_Review-g188590-d696917--Reviews-or490-De_Kas-Amsterdam_North_Holland_Province.html\n",
      "https://www.tripadvisor.nl/Restaurant_Review-g188590-d696917--Reviews-or500-De_Kas-Amsterdam_North_Holland_Province.html\n",
      "https://www.tripadvisor.nl/Restaurant_Review-g188590-d696917--Reviews-or510-De_Kas-Amsterdam_North_Holland_Province.html\n",
      "https://www.tripadvisor.nl/Restaurant_Review-g188590-d696917--Reviews-or520-De_Kas-Amsterdam_North_Holland_Province.html\n",
      "https://www.tripadvisor.nl/Restaurant_Review-g188590-d696917--Reviews-or530-De_Kas-Amsterdam_North_Holland_Province.html\n",
      "https://www.tripadvisor.nl/Restaurant_Review-g188590-d696917--Reviews-or540-De_Kas-Amsterdam_North_Holland_Province.html\n",
      "https://www.tripadvisor.nl/Restaurant_Review-g188590-d696917--Reviews-or550-De_Kas-Amsterdam_North_Holland_Province.html\n",
      "https://www.tripadvisor.nl/Restaurant_Review-g188590-d696917--Reviews-or560-De_Kas-Amsterdam_North_Holland_Province.html\n",
      "https://www.tripadvisor.nl/Restaurant_Review-g188590-d696917--Reviews-or570-De_Kas-Amsterdam_North_Holland_Province.html\n",
      "https://www.tripadvisor.nl/Restaurant_Review-g188590-d696917--Reviews-or580-De_Kas-Amsterdam_North_Holland_Province.html\n",
      "https://www.tripadvisor.nl/Restaurant_Review-g188590-d696917--Reviews-or590-De_Kas-Amsterdam_North_Holland_Province.html\n",
      "https://www.tripadvisor.nl/Restaurant_Review-g188590-d696917--Reviews-or600-De_Kas-Amsterdam_North_Holland_Province.html\n",
      "https://www.tripadvisor.nl/Restaurant_Review-g188590-d696917--Reviews-or610-De_Kas-Amsterdam_North_Holland_Province.html\n",
      "https://www.tripadvisor.nl/Restaurant_Review-g188590-d696917--Reviews-or620-De_Kas-Amsterdam_North_Holland_Province.html\n",
      "https://www.tripadvisor.nl/Restaurant_Review-g188590-d696917--Reviews-or630-De_Kas-Amsterdam_North_Holland_Province.html\n",
      "https://www.tripadvisor.nl/Restaurant_Review-g188590-d696917--Reviews-or640-De_Kas-Amsterdam_North_Holland_Province.html\n",
      "https://www.tripadvisor.nl/Restaurant_Review-g188590-d696917--Reviews-or650-De_Kas-Amsterdam_North_Holland_Province.html\n",
      "https://www.tripadvisor.nl/Restaurant_Review-g188590-d696917--Reviews-or660-De_Kas-Amsterdam_North_Holland_Province.html\n",
      "https://www.tripadvisor.nl/Restaurant_Review-g188590-d696917--Reviews-or670-De_Kas-Amsterdam_North_Holland_Province.html\n"
     ]
    },
    {
     "name": "stdout",
     "output_type": "stream",
     "text": [
      "https://www.tripadvisor.nl/Restaurant_Review-g188590-d696917--Reviews-or680-De_Kas-Amsterdam_North_Holland_Province.html\n",
      "https://www.tripadvisor.nl/Restaurant_Review-g188590-d696917--Reviews-or690-De_Kas-Amsterdam_North_Holland_Province.html\n",
      "https://www.tripadvisor.nl/Restaurant_Review-g188590-d696917--Reviews-or700-De_Kas-Amsterdam_North_Holland_Province.html\n",
      "https://www.tripadvisor.nl/Restaurant_Review-g188590-d696917--Reviews-or710-De_Kas-Amsterdam_North_Holland_Province.html\n",
      "https://www.tripadvisor.nl/Restaurant_Review-g188590-d696917--Reviews-or720-De_Kas-Amsterdam_North_Holland_Province.html\n",
      "https://www.tripadvisor.nl/Restaurant_Review-g188590-d696917--Reviews-or730-De_Kas-Amsterdam_North_Holland_Province.html\n",
      "https://www.tripadvisor.nl/Restaurant_Review-g188590-d696917--Reviews-or740-De_Kas-Amsterdam_North_Holland_Province.html\n",
      "https://www.tripadvisor.nl/Restaurant_Review-g188590-d696917--Reviews-or750-De_Kas-Amsterdam_North_Holland_Province.html\n",
      "https://www.tripadvisor.nl/Restaurant_Review-g188590-d696917--Reviews-or760-De_Kas-Amsterdam_North_Holland_Province.html\n",
      "https://www.tripadvisor.nl/Restaurant_Review-g188590-d696917--Reviews-or770-De_Kas-Amsterdam_North_Holland_Province.html\n",
      "https://www.tripadvisor.nl/Restaurant_Review-g188590-d696917--Reviews-or780-De_Kas-Amsterdam_North_Holland_Province.html\n",
      "https://www.tripadvisor.nl/Restaurant_Review-g188590-d696917--Reviews-or790-De_Kas-Amsterdam_North_Holland_Province.html\n",
      "https://www.tripadvisor.nl/Restaurant_Review-g188590-d696917--Reviews-or800-De_Kas-Amsterdam_North_Holland_Province.html\n",
      "https://www.tripadvisor.nl/Restaurant_Review-g188590-d696917--Reviews-or810-De_Kas-Amsterdam_North_Holland_Province.html\n",
      "https://www.tripadvisor.nl/Restaurant_Review-g188590-d696917--Reviews-or820-De_Kas-Amsterdam_North_Holland_Province.html\n",
      "https://www.tripadvisor.nl/Restaurant_Review-g188590-d696917--Reviews-or830-De_Kas-Amsterdam_North_Holland_Province.html\n",
      "https://www.tripadvisor.nl/Restaurant_Review-g188590-d696917--Reviews-or840-De_Kas-Amsterdam_North_Holland_Province.html\n",
      "https://www.tripadvisor.nl/Restaurant_Review-g188590-d696917--Reviews-or850-De_Kas-Amsterdam_North_Holland_Province.html\n",
      "https://www.tripadvisor.nl/Restaurant_Review-g188590-d696917--Reviews-or860-De_Kas-Amsterdam_North_Holland_Province.html\n",
      "https://www.tripadvisor.nl/Restaurant_Review-g188590-d696917--Reviews-or870-De_Kas-Amsterdam_North_Holland_Province.html\n",
      "https://www.tripadvisor.nl/Restaurant_Review-g188590-d696917--Reviews-or880-De_Kas-Amsterdam_North_Holland_Province.html\n",
      "https://www.tripadvisor.nl/Restaurant_Review-g188590-d696917--Reviews-or890-De_Kas-Amsterdam_North_Holland_Province.html\n",
      "https://www.tripadvisor.nl/Restaurant_Review-g188590-d696917--Reviews-or900-De_Kas-Amsterdam_North_Holland_Province.html\n",
      "https://www.tripadvisor.nl/Restaurant_Review-g188590-d696917--Reviews-or910-De_Kas-Amsterdam_North_Holland_Province.html\n",
      "https://www.tripadvisor.nl/Restaurant_Review-g188590-d696917--Reviews-or920-De_Kas-Amsterdam_North_Holland_Province.html\n",
      "https://www.tripadvisor.nl/Restaurant_Review-g188590-d696917--Reviews-or930-De_Kas-Amsterdam_North_Holland_Province.html\n",
      "https://www.tripadvisor.nl/Restaurant_Review-g188590-d696917--Reviews-or940-De_Kas-Amsterdam_North_Holland_Province.html\n",
      "https://www.tripadvisor.nl/Restaurant_Review-g188590-d696917--Reviews-or950-De_Kas-Amsterdam_North_Holland_Province.html\n",
      "https://www.tripadvisor.nl/Restaurant_Review-g188590-d696917--Reviews-or960-De_Kas-Amsterdam_North_Holland_Province.html\n",
      "https://www.tripadvisor.nl/Restaurant_Review-g188590-d696917--Reviews-or970-De_Kas-Amsterdam_North_Holland_Province.html\n",
      "https://www.tripadvisor.nl/Restaurant_Review-g188590-d696917--Reviews-or980-De_Kas-Amsterdam_North_Holland_Province.html\n",
      "https://www.tripadvisor.nl/Restaurant_Review-g188590-d696917--Reviews-or990-De_Kas-Amsterdam_North_Holland_Province.html\n",
      "https://www.tripadvisor.nl/Restaurant_Review-g188590-d696917--Reviews-or1000-De_Kas-Amsterdam_North_Holland_Province.html\n",
      "https://www.tripadvisor.nl/Restaurant_Review-g188590-d696917--Reviews-or1010-De_Kas-Amsterdam_North_Holland_Province.html\n",
      "https://www.tripadvisor.nl/Restaurant_Review-g188590-d696917--Reviews-or1020-De_Kas-Amsterdam_North_Holland_Province.html\n",
      "https://www.tripadvisor.nl/Restaurant_Review-g188590-d696917--Reviews-or1030-De_Kas-Amsterdam_North_Holland_Province.html\n",
      "https://www.tripadvisor.nl/Restaurant_Review-g188590-d696917--Reviews-or1040-De_Kas-Amsterdam_North_Holland_Province.html\n",
      "https://www.tripadvisor.nl/Restaurant_Review-g188590-d696917--Reviews-or1050-De_Kas-Amsterdam_North_Holland_Province.html\n",
      "https://www.tripadvisor.nl/Restaurant_Review-g188590-d696917--Reviews-or1060-De_Kas-Amsterdam_North_Holland_Province.html\n",
      "https://www.tripadvisor.nl/Restaurant_Review-g188590-d696917--Reviews-or1070-De_Kas-Amsterdam_North_Holland_Province.html\n",
      "https://www.tripadvisor.nl/Restaurant_Review-g188590-d696917--Reviews-or1080-De_Kas-Amsterdam_North_Holland_Province.html\n",
      "https://www.tripadvisor.nl/Restaurant_Review-g188590-d696917--Reviews-or1090-De_Kas-Amsterdam_North_Holland_Province.html\n",
      "https://www.tripadvisor.nl/Restaurant_Review-g188590-d696917--Reviews-or1100-De_Kas-Amsterdam_North_Holland_Province.html\n",
      "https://www.tripadvisor.nl/Restaurant_Review-g188590-d696917--Reviews-or1110-De_Kas-Amsterdam_North_Holland_Province.html\n",
      "https://www.tripadvisor.nl/Restaurant_Review-g188590-d696917--Reviews-or1120-De_Kas-Amsterdam_North_Holland_Province.html\n",
      "https://www.tripadvisor.nl/Restaurant_Review-g188590-d696917--Reviews-or1130-De_Kas-Amsterdam_North_Holland_Province.html\n",
      "https://www.tripadvisor.nl/Restaurant_Review-g188590-d696917--Reviews-or1140-De_Kas-Amsterdam_North_Holland_Province.html\n",
      "https://www.tripadvisor.nl/Restaurant_Review-g188590-d696917--Reviews-or1150-De_Kas-Amsterdam_North_Holland_Province.html\n",
      "https://www.tripadvisor.nl/Restaurant_Review-g188590-d696917--Reviews-or1160-De_Kas-Amsterdam_North_Holland_Province.html\n",
      "https://www.tripadvisor.nl/Restaurant_Review-g188590-d696917--Reviews-or1170-De_Kas-Amsterdam_North_Holland_Province.html\n",
      "https://www.tripadvisor.nl/Restaurant_Review-g188590-d696917--Reviews-or1180-De_Kas-Amsterdam_North_Holland_Province.html\n",
      "https://www.tripadvisor.nl/Restaurant_Review-g188590-d696917--Reviews-or1190-De_Kas-Amsterdam_North_Holland_Province.html\n",
      "https://www.tripadvisor.nl/Restaurant_Review-g188590-d696917--Reviews-or1200-De_Kas-Amsterdam_North_Holland_Province.html\n",
      "https://www.tripadvisor.nl/Restaurant_Review-g188590-d696917--Reviews-or1210-De_Kas-Amsterdam_North_Holland_Province.html\n",
      "https://www.tripadvisor.nl/Restaurant_Review-g188590-d696917--Reviews-or1220-De_Kas-Amsterdam_North_Holland_Province.html\n",
      "https://www.tripadvisor.nl/Restaurant_Review-g188590-d696917--Reviews-or1230-De_Kas-Amsterdam_North_Holland_Province.html\n",
      "https://www.tripadvisor.nl/Restaurant_Review-g188590-d696917--Reviews-or1240-De_Kas-Amsterdam_North_Holland_Province.html\n",
      "https://www.tripadvisor.nl/Restaurant_Review-g188590-d696917--Reviews-or1250-De_Kas-Amsterdam_North_Holland_Province.html\n",
      "https://www.tripadvisor.nl/Restaurant_Review-g188590-d696917--Reviews-or1260-De_Kas-Amsterdam_North_Holland_Province.html\n",
      "https://www.tripadvisor.nl/Restaurant_Review-g188590-d696917--Reviews-or1270-De_Kas-Amsterdam_North_Holland_Province.html\n",
      "https://www.tripadvisor.nl/Restaurant_Review-g188590-d696917--Reviews-or1280-De_Kas-Amsterdam_North_Holland_Province.html\n",
      "https://www.tripadvisor.nl/Restaurant_Review-g188590-d696917--Reviews-or1290-De_Kas-Amsterdam_North_Holland_Province.html\n",
      "https://www.tripadvisor.nl/Restaurant_Review-g188590-d696917--Reviews-or1300-De_Kas-Amsterdam_North_Holland_Province.html\n"
     ]
    }
   ],
   "source": [
    "\n",
    "for url in list_urls:\n",
    "    driver.get(url)\n",
    "    # Find and click the More link (to load all reviews)\n",
    "    driver.find_element_by_xpath(\"//span[@class='taLnk ulBlueLinks']\").click()\n",
    "    print(url)\n",
    "    time.sleep(5) # Wait for reviews to load\n",
    "\n",
    "    reviews = driver.find_elements_by_xpath(\"//div[@class='ui_column is-9']\")\n",
    "    num_page_items = min(len(reviews), 10)\n",
    "    seconds_to_wait = randint(1,5)\n",
    "    # Loop through the reviews found\n",
    "    for i in range(num_page_items):\n",
    "        # get the score, date, title and review\n",
    "        try:\n",
    "            score_class = reviews[i].find_element_by_xpath(\".//span[contains(@class, 'ui_bubble_rating bubble_')]\").get_attribute(\"class\")\n",
    "            score = score_class.split(\"_\")[3]\n",
    "            date = reviews[i].find_element_by_xpath(\".//span[@class='ratingDate']\").get_attribute(\"title\")\n",
    "            title = reviews[i].find_element_by_xpath(\".//span[@class='noQuotes']\").text\n",
    "            review = reviews[i].find_element_by_xpath(\".//p[@class='partial_entry']\").text.replace(\"\\n\", \"\")\n",
    "            # Save to CSV\n",
    "            csvWriter.writerow((score, date, title, review))\n",
    "        except: \n",
    "            continue\n",
    "            "
   ]
  },
  {
   "cell_type": "markdown",
   "id": "07db5986",
   "metadata": {},
   "source": [
    "Selenium has the ability to grab elements by their ID, class, tag, or other properties. To find the ID, class, tag or other property you want to scrape, right click within Chrome browser and select Inspect (or you can press F12 to open the Inspector window)."
   ]
  },
  {
   "cell_type": "code",
   "execution_count": null,
   "id": "79224929",
   "metadata": {},
   "outputs": [],
   "source": [
    "# Loop through the reviews found\n",
    "for i in range(num_page_items):\n",
    "    # get the score, date, title and review\n",
    "    score_class = reviews[i].find_element_by_xpath(\".//span[contains(@class, 'ui_bubble_rating bubble_')]\").get_attribute(\"class\")\n",
    "    score = score_class.split(\"_\")[3]\n",
    "    date = reviews[i].find_element_by_xpath(\".//span[@class='ratingDate']\").get_attribute(\"title\")\n",
    "    title = reviews[i].find_element_by_xpath(\".//span[@class='noQuotes']\").text\n",
    "    review = reviews[i].find_element_by_xpath(\".//p[@class='partial_entry']\").text.replace(\"\\n\", \"\")\n",
    "    # Save to CSV\n",
    "    csvWriter.writerow((score, date, title, review))"
   ]
  },
  {
   "cell_type": "code",
   "execution_count": null,
   "id": "67d01d32",
   "metadata": {},
   "outputs": [],
   "source": []
  },
  {
   "cell_type": "code",
   "execution_count": null,
   "id": "a756beb8",
   "metadata": {},
   "outputs": [],
   "source": []
  },
  {
   "cell_type": "code",
   "execution_count": null,
   "id": "d888437a",
   "metadata": {},
   "outputs": [],
   "source": []
  },
  {
   "cell_type": "markdown",
   "id": "1c4cd988",
   "metadata": {},
   "source": [
    "Now we create a loop to go trought all the pages, to get all the reviews that are displaied on the site 3o by 30 each time."
   ]
  },
  {
   "cell_type": "code",
   "execution_count": null,
   "id": "2bd200ba",
   "metadata": {},
   "outputs": [],
   "source": [
    "for review in bsobj.findAll('a',{'class':'review_count'}):\n",
    "  a = review['href']\n",
    "  a = 'https://www.tripadvisor.in'+ a\n",
    "  a = a[:(a.find('Reviews')+7)] + '-or{}' + a[(a.find('Reviews')+7):]\n",
    "  print(a)\n",
    "  links.append(a)"
   ]
  },
  {
   "cell_type": "code",
   "execution_count": null,
   "id": "256b481e",
   "metadata": {},
   "outputs": [],
   "source": []
  },
  {
   "cell_type": "code",
   "execution_count": null,
   "id": "9edc3502",
   "metadata": {},
   "outputs": [],
   "source": []
  },
  {
   "cell_type": "code",
   "execution_count": null,
   "id": "43084369",
   "metadata": {},
   "outputs": [],
   "source": []
  }
 ],
 "metadata": {
  "kernelspec": {
   "display_name": "Python 3",
   "language": "python",
   "name": "python3"
  },
  "language_info": {
   "codemirror_mode": {
    "name": "ipython",
    "version": 3
   },
   "file_extension": ".py",
   "mimetype": "text/x-python",
   "name": "python",
   "nbconvert_exporter": "python",
   "pygments_lexer": "ipython3",
   "version": "3.8.8"
  },
  "toc": {
   "base_numbering": 1,
   "nav_menu": {},
   "number_sections": false,
   "sideBar": true,
   "skip_h1_title": false,
   "title_cell": "Table of Contents",
   "title_sidebar": "Contents",
   "toc_cell": true,
   "toc_position": {},
   "toc_section_display": true,
   "toc_window_display": true
  }
 },
 "nbformat": 4,
 "nbformat_minor": 5
}
